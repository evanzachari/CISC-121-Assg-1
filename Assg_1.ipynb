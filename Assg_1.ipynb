{
  "nbformat": 4,
  "nbformat_minor": 0,
  "metadata": {
    "colab": {
      "provenance": [],
      "authorship_tag": "ABX9TyP1wwgxIiFuj0AG+B/JvSFW",
      "include_colab_link": true
    },
    "kernelspec": {
      "name": "python3",
      "display_name": "Python 3"
    },
    "language_info": {
      "name": "python"
    }
  },
  "cells": [
    {
      "cell_type": "markdown",
      "metadata": {
        "id": "view-in-github",
        "colab_type": "text"
      },
      "source": [
        "<a href=\"https://colab.research.google.com/github/evanzachari/CISC-121-Assg-1/blob/main/Assg_1.ipynb\" target=\"_parent\"><img src=\"https://colab.research.google.com/assets/colab-badge.svg\" alt=\"Open In Colab\"/></a>"
      ]
    },
    {
      "cell_type": "code",
      "execution_count": 23,
      "metadata": {
        "id": "xSzTpP3RcmgU"
      },
      "outputs": [],
      "source": [
        "#Q1, Draft\n",
        "\n",
        "class Solution:\n",
        "    def fizzBuzz(self, n: int):\n",
        "        result = []  # list to hold answers\n",
        "\n",
        "        for i in range(1, n + 1):\n",
        "            if i % 3 == 0 and i % 5 == 0:\n",
        "                result.append(\"FizzBuzz\")\n",
        "            elif i % 3 == 0:\n",
        "                result.append(\"Fizz\")\n",
        "            elif i % 5 == 0:\n",
        "                result.append(\"Buzz\")\n",
        "            else:\n",
        "                result.append(str(i))  # convert number to string\n",
        "\n",
        "        return result"
      ]
    },
    {
      "cell_type": "code",
      "source": [
        "#Q1, Final\n",
        "# [AI Disclaimer: Used ChatGPT to identify optimization of checking divisibility of 3 & 5 in Draft]\n",
        "\n",
        "class Solution:\n",
        "    def fizzBuzz(self, n: int):\n",
        "        result = []  # list to hold answers\n",
        "\n",
        "        for i in range(1, n + 1):\n",
        "            if i % 15 == 0:\n",
        "                result.append(\"FizzBuzz\")\n",
        "            elif i % 3 == 0:\n",
        "                result.append(\"Fizz\")\n",
        "            elif i % 5 == 0:\n",
        "                result.append(\"Buzz\")\n",
        "            else:\n",
        "                result.append(str(i))  # convert number to string\n",
        "\n",
        "        return result\n",
        "\n",
        "# Run and print results\n",
        "s = Solution()\n",
        "result = s.fizzBuzz(18)   # change ( ) to whatever n you want\n",
        "print(result)"
      ],
      "metadata": {
        "colab": {
          "base_uri": "https://localhost:8080/"
        },
        "id": "8J1E6-oDyNya",
        "outputId": "5a9ba6dd-b6a4-471d-ea02-8e4075ccac8c"
      },
      "execution_count": 22,
      "outputs": [
        {
          "output_type": "stream",
          "name": "stdout",
          "text": [
            "['1', '2', 'Fizz', '4', 'Buzz', 'Fizz', '7', '8', 'Fizz', 'Buzz', '11', 'Fizz', '13', '14', 'FizzBuzz', '16', '17', 'Fizz']\n"
          ]
        }
      ]
    },
    {
      "cell_type": "code",
      "source": [
        "#Q2, Draft\n",
        "\n",
        "class Solution:\n",
        "    def isPalindrome(self, x: int) -> bool:\n",
        "        if x < 0:                           #develop early rejection\n",
        "            return False\n",
        "\n",
        "\n",
        "        # store original and set up working variables\n",
        "        original = x\n",
        "        num = x\n",
        "        rev = 0\n",
        "\n",
        "        # reverse the digits of num and reverse into rev\n",
        "        while num > 0:\n",
        "            last = num % 10\n",
        "            rev = rev * 10 + last\n",
        "            num //= 10\n",
        "\n",
        "        # compare\n",
        "        return rev == original"
      ],
      "metadata": {
        "id": "AeswJXcQgX0U"
      },
      "execution_count": 26,
      "outputs": []
    },
    {
      "cell_type": "code",
      "source": [
        "#Q2, Final\n",
        "# [AI Disclaimer: Used ChatGPT to help understand the best way to create 'Test Block']\n",
        "\n",
        "class Solution:\n",
        "    def isPalindrome(self, x: int) -> bool:\n",
        "        # early rejection of negatives and numbers ending with 0 (except 0)\n",
        "        if x < 0 or (x % 10 == 0 and x != 0):\n",
        "            return False\n",
        "\n",
        "        # store original and set up working variables\n",
        "        original = x\n",
        "        num = x\n",
        "        rev = 0\n",
        "\n",
        "        # reverse the digits of num and reverse into rev\n",
        "        while num > 0:\n",
        "            last = num % 10\n",
        "            rev = rev * 10 + last\n",
        "            num //= 10\n",
        "\n",
        "        # compare\n",
        "        return rev == original\n",
        "\n",
        "# test block\n",
        "if __name__ == \"__main__\":\n",
        "    s = Solution()\n",
        "    cases = [121, -121, 90, 0, 4224, 123, 846, 101]\n",
        "    for v in cases:\n",
        "        print(f\"{v:>5} -> {s.isPalindrome(v)}\")\n"
      ],
      "metadata": {
        "colab": {
          "base_uri": "https://localhost:8080/"
        },
        "id": "2c3tXWULyPww",
        "outputId": "1b905e27-42d5-4ba7-de35-8a82e25a6ea9"
      },
      "execution_count": 31,
      "outputs": [
        {
          "output_type": "stream",
          "name": "stdout",
          "text": [
            "  121 -> True\n",
            " -121 -> False\n",
            "   90 -> False\n",
            "    0 -> True\n",
            " 4224 -> True\n",
            "  123 -> False\n",
            "  846 -> False\n",
            "  101 -> True\n"
          ]
        }
      ]
    },
    {
      "cell_type": "code",
      "source": [
        "#Q3, Draft\n",
        "\n",
        "class Solution:\n",
        "    def reverse(self, x: int) -> int:\n",
        "        # keep the original sign and work with the absolute value\n",
        "        sign = -1 if x < 0 else 1\n",
        "        n = abs(x)\n",
        "\n",
        "        rev = 0\n",
        "        # reverse all digits\n",
        "        while n > 0:\n",
        "            digit = n % 10\n",
        "            rev = rev * 10 + digit\n",
        "            n //= 10\n",
        "\n",
        "        rev *= sign  # reapply sign\n",
        "\n",
        "        # final range check\n",
        "        INT_MIN, INT_MAX = -2**31, 2**31 - 1\n",
        "        if rev < INT_MIN or rev > INT_MAX:\n",
        "            return 0\n",
        "        return rev\n"
      ],
      "metadata": {
        "id": "1zUk98Lsq2bp"
      },
      "execution_count": 34,
      "outputs": []
    },
    {
      "cell_type": "code",
      "source": [
        "#Q3, Final\n",
        "\n",
        "class Solution:\n",
        "    def reverse(self, x: int) -> int:\n",
        "\n",
        "        INT_MIN, INT_MAX = -2**31, 2**31 - 1\n",
        "\n",
        "        sign = -1 if x < 0 else 1\n",
        "        n = abs(x)\n",
        "        rev = 0\n",
        "\n",
        "        while n:\n",
        "            digit = n % 10\n",
        "\n",
        "            # overflow check before\n",
        "            # when final sign is positive, last allowed digit is 7\n",
        "            # when final sign is negative, last allowed digit is 8\n",
        "            limit_last_digit = 7 if sign == 1 else 8\n",
        "            if rev > INT_MAX // 10 or (rev == INT_MAX // 10 and digit > limit_last_digit):\n",
        "                return 0\n",
        "\n",
        "            rev = rev * 10 + digit\n",
        "            n //= 10\n",
        "\n",
        "        return sign * rev\n"
      ],
      "metadata": {
        "id": "IriV3EmMySum"
      },
      "execution_count": 33,
      "outputs": []
    },
    {
      "cell_type": "code",
      "source": [
        "#Q4, Draft\n",
        "\n",
        "from typing import List\n",
        "\n",
        "class Solution:\n",
        "    def twoSum(self, nums: List[int], target: int) -> List[int]:\n",
        "\n",
        "        # hash map\n",
        "        seen = {}\n",
        "\n",
        "        # loop one number at a time\n",
        "        for i in range(len(nums)):\n",
        "            num = nums[i]\n",
        "\n",
        "            # find the remainder/other needed to satisfy target\n",
        "            other = target - num\n",
        "\n",
        "            # if remainder/other already seen, return its index and current index\n",
        "            if other in seen:\n",
        "                return [seen[other], i]\n",
        "\n",
        "            # if not, store current number and its index\n",
        "            seen[num] = i\n",
        "\n",
        "        # output\n",
        "        return [ ]\n"
      ],
      "metadata": {
        "id": "SCRIm0FYq4oL"
      },
      "execution_count": 36,
      "outputs": []
    },
    {
      "cell_type": "code",
      "source": [
        "#Q4, Final\n",
        "\n",
        "from typing import List\n",
        "\n",
        "class Solution:\n",
        "    def twoSum(self, nums: List[int], target: int) -> List[int]:\n",
        "\n",
        "        # hash map\n",
        "        seen = {}\n",
        "\n",
        "        # loop one number at a time\n",
        "        for i in range(len(nums)):\n",
        "            num = nums[i]\n",
        "\n",
        "            # find the remainder/other needed to satisfy target\n",
        "            other = target - num\n",
        "\n",
        "            # if remainder/other already seen, return its index and current index\n",
        "            if other in seen:\n",
        "                return [seen[other], i]\n",
        "\n",
        "            # if not, store current number and its index\n",
        "            seen[num] = i\n",
        "\n",
        "        # output\n",
        "        return [ ]\n",
        "\n",
        "\n",
        "# run and print results\n",
        "if __name__ == \"__main__\":\n",
        "    s = Solution()\n",
        "    nums = [2, 7, 11, 15]   # array input\n",
        "    target = 9              # target input\n",
        "    print(s.twoSum(nums, target))"
      ],
      "metadata": {
        "colab": {
          "base_uri": "https://localhost:8080/"
        },
        "id": "iWUcm59RyUZ5",
        "outputId": "d82b351f-cc7f-43ad-cdb2-1f6d712d7adb"
      },
      "execution_count": 39,
      "outputs": [
        {
          "output_type": "stream",
          "name": "stdout",
          "text": [
            "[0, 1]\n"
          ]
        }
      ]
    },
    {
      "cell_type": "code",
      "source": [
        "#Q5, Draft\n",
        "\n",
        "class Solution(object):\n",
        "    def isPalindrome(self, s: str) -> bool:\n",
        "\n",
        "        new = \"\"                      #empty string\n",
        "\n",
        "        for i in s:                   #loop through each character in string\n",
        "            if i.isalnum():           #keep only letters and number\n",
        "                new += i.lower()      #convert to lowercase and add to new string\n",
        "\n",
        "        return new == new[::-1]       #compare"
      ],
      "metadata": {
        "id": "4PSvAZ30qR02"
      },
      "execution_count": 41,
      "outputs": []
    },
    {
      "cell_type": "code",
      "source": [
        "#Q5, Final\n",
        "# [AI Disclaimer: I Used ChatGPT to understand use of pointers and docstring, used leetcode solution to compare approaches and select the two-pointer method]\n",
        "\n",
        "class Solution:\n",
        "    def isPalindrome(self, s: str) -> bool:\n",
        "        \"\"\"Check if a given string is a valid palindrome.\n",
        "        Non-alphanumeric characters are ignored and comparison is case-insensitive.\n",
        "        \"\"\"\n",
        "        left, right = 0, len(s) - 1\n",
        "\n",
        "        while left < right:\n",
        "            # Skip non-alphanumeric from the left\n",
        "            while left < right and not s[left].isalnum():\n",
        "                left += 1\n",
        "\n",
        "            # Skip non-alphanumeric from the right\n",
        "            while left < right and not s[right].isalnum():\n",
        "                right -= 1\n",
        "\n",
        "            # Compare characters (case-insensitive)\n",
        "            if s[left].lower() != s[right].lower():\n",
        "                return False\n",
        "\n",
        "            # Move both pointers inward\n",
        "            left += 1\n",
        "            right -= 1\n",
        "\n",
        "        return True\n"
      ],
      "metadata": {
        "id": "qW1BYY49yJAI"
      },
      "execution_count": 40,
      "outputs": []
    }
  ]
}