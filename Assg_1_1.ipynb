{
  "nbformat": 4,
  "nbformat_minor": 0,
  "metadata": {
    "colab": {
      "provenance": [],
      "authorship_tag": "ABX9TyO+/fR2NrsLyZlCnSmcCMXr",
      "include_colab_link": true
    },
    "kernelspec": {
      "name": "python3",
      "display_name": "Python 3"
    },
    "language_info": {
      "name": "python"
    }
  },
  "cells": [
    {
      "cell_type": "markdown",
      "metadata": {
        "id": "view-in-github",
        "colab_type": "text"
      },
      "source": [
        "<a href=\"https://colab.research.google.com/github/evanzachari/CISC-121-Assg-1/blob/main/Assg_1_1.ipynb\" target=\"_parent\"><img src=\"https://colab.research.google.com/assets/colab-badge.svg\" alt=\"Open In Colab\"/></a>"
      ]
    },
    {
      "cell_type": "code",
      "execution_count": 5,
      "metadata": {
        "colab": {
          "base_uri": "https://localhost:8080/"
        },
        "id": "xSzTpP3RcmgU",
        "outputId": "3bb190d9-d65c-49d5-e7a5-26a582571ac2"
      },
      "outputs": [
        {
          "output_type": "stream",
          "name": "stdout",
          "text": [
            "['1', '2', 'Fizz', '4', 'Buzz', 'Fizz', '7', '8', 'Fizz', 'Buzz', '11', 'Fizz', '13', '14', 'FizzBuzz']\n"
          ]
        }
      ],
      "source": [
        "#Q1\n",
        "\n",
        "from typing import List\n",
        "\n",
        "class Solution:\n",
        "    def fizzBuzz(self, n: int) -> List[str]:\n",
        "        output = []\n",
        "        for i in range(1, n + 1):\n",
        "            if i % 3 == 0 and i % 5 == 0:\n",
        "                output.append(\"FizzBuzz\")\n",
        "            elif i % 3 == 0:\n",
        "                output.append(\"Fizz\")\n",
        "            elif i % 5 == 0:\n",
        "                output.append(\"Buzz\")\n",
        "            else:\n",
        "                output.append(str(i))\n",
        "        return output\n",
        "\n",
        "# Run the function and print results\n",
        "s = Solution()\n",
        "result = s.fizzBuzz(15)   # change 15 to whatever n you want\n",
        "print(result)\n",
        "\n"
      ]
    },
    {
      "cell_type": "code",
      "source": [
        "#Q2\n",
        "\n",
        "class Solution:\n",
        "    def isPalindrome(self, x: int) -> bool:\n",
        "        if x < 0:\n",
        "            return False\n",
        "\n",
        "        rev = 0\n",
        "        num = x\n",
        "\n",
        "        while num != 0:\n",
        "            rev = rev * 10 + num % 10\n",
        "            num = num // 10\n",
        "\n",
        "        return rev == x"
      ],
      "metadata": {
        "id": "AeswJXcQgX0U"
      },
      "execution_count": 6,
      "outputs": []
    }
  ]
}